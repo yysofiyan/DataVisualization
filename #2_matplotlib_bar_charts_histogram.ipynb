{
 "cells": [
  {
   "cell_type": "code",
   "execution_count": null,
   "metadata": {
    "collapsed": true
   },
   "outputs": [],
   "source": [
    "#1- Import library matplotlib dengan alias plt\n",
    "import matplotlib.pyplot as plt"
   ]
  },
  {
   "cell_type": "code",
   "execution_count": 17,
   "metadata": {
    "collapsed": true
   },
   "outputs": [],
   "source": [
    "#2- Seri Data A dan Data B\n",
    "datax_a1 = [1, 3, 5, 7, 9]\n",
    "datay_a2 = [5, 2, 7, 8, 2]\n",
    "\n",
    "datax_b1 = [2, 4, 6, 8, 10]\n",
    "datay_b2 = [8, 6, 2, 5, 6]\n",
    "\n",
    "#3- Properti Label Legend\n",
    "label_a = \"Data Seri A\"\n",
    "label_b = \"Data Seri B\"\n",
    "\n",
    "#4- Properti Label Diagram\n",
    "x_label = \"Nomor Urut Bar\"\n",
    "y_label = \"Nilai Bar\"\n",
    "\n",
    "#5- Properti Judul Diagram\n",
    "judul = \"Bar Pada Matplotlib\""
   ]
  },
  {
   "cell_type": "code",
   "execution_count": 33,
   "metadata": {},
   "outputs": [
    {
     "name": "stdout",
     "output_type": "stream",
     "text": [
      "Data Seri A :\n",
      "Data X = [1, 3, 5, 7, 9] Data Y = [5, 2, 7, 8, 2]\n",
      "Data Seri B :\n",
      "Data X = [2, 4, 6, 8, 10] Data Y = [8, 6, 2, 5, 6]\n"
     ]
    },
    {
     "data": {
      "image/png": "[encoded data removed]",
      "text/plain": [
       "<matplotlib.figure.Figure at 0x1f6b98c8748>"
      ]
     },
     "metadata": {},
     "output_type": "display_data"
    }
   ],
   "source": [
    "#6- PROSES MEMBUAT DIAGRAM\n",
    "plt.bar(data_a1, data_a2, label=label_a) #7\n",
    "plt.bar(data_b1, data_b2, label = label_b) #8\n",
    "plt.legend() #9\n",
    "plt.xlabel(x_label) #10\n",
    "plt.ylabel(y_label) #11\n",
    "plt.title(judul) #12\n",
    "\n",
    "print(\"Data Seri A :\") #13\n",
    "print('Data X = %s Data Y = %s' % (datax_a1,datay_a2)) #14\n",
    "print(\"Data Seri B :\") #15\n",
    "print('Data X = %s Data Y = %s' % (datax_b1,datay_b2)) #16\n",
    "\n",
    "plt.show() #17\n",
    "\n",
    "#7- Fungsi plt (lihat komentar #1) untuk membuat bar dengan data dari seri A (lihat komentar #2)\n",
    "#--->dengan nilai variabel datax_a1 pada sumbu X (horisontal), dan datay_a1 pada sumbu Y (vertikal)\n",
    "#8- Sama dengan komentar #7 hanya saja data seri B menggunakan variabel datax_b1 pada sumbu X dan datay_b2 pada sumbu Y\n",
    "#9- Fungsi untuk menampilkan legend\n",
    "#10- Memberikan Label pada Grafik Bar pada sumbu X\n",
    "#11- Memberikan Label pada Grafik Bar pada sumbu Y\n",
    "#12- Memberikan Judul pada Grafik Bar\n",
    "#13 - 16 Fungsi Print\n",
    "#17- Menampilkan Grafik Bar"
   ]
  },
  {
   "cell_type": "code",
   "execution_count": null,
   "metadata": {
    "collapsed": true
   },
   "outputs": [],
   "source": []
  }
 ],
 "metadata": {
  "kernelspec": {
   "display_name": "Python 3",
   "language": "python",
   "name": "python3"
  },
  "language_info": {
   "codemirror_mode": {
    "name": "ipython",
    "version": 3
   },
   "file_extension": ".py",
   "mimetype": "text/x-python",
   "name": "python",
   "nbconvert_exporter": "python",
   "pygments_lexer": "ipython3",
   "version": "3.5.3"
  }
 },
 "nbformat": 4,
 "nbformat_minor": 2
}
