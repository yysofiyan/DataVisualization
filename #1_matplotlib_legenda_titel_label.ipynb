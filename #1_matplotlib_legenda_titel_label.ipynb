{
 "cells": [
  {
   "cell_type": "code",
   "execution_count": 9,
   "metadata": {
    "collapsed": true
   },
   "outputs": [],
   "source": [
    "#1-Mengimpor library pyplot pada paket matplotlib kemudian memberikan inisialisasi dengan nama 'plt'\n",
    "import matplotlib.pyplot as plt"
   ]
  },
  {
   "cell_type": "code",
   "execution_count": null,
   "metadata": {
    "collapsed": true
   },
   "outputs": [],
   "source": [
    "#2-Deklarasi variabel yang akan di plot\n",
    "\n",
    "#3-SERI DATA 1\n",
    "x = [1, 2, 3] #4-Nilai seri data1 pada sumbu x (horisontal) berturut - turut yaitu 1, 2, dan 3 \n",
    "y = [5, 7, 4] #5-Nilai seri data1 pada sumnu y (vertikal) berturut -turut yaitu 5, 7, dam 4\n",
    "\n",
    "#6-SERI DATA 2\n",
    "x2 = [1, 2, 3]    #7-Nilai seri data2 pada sumbu x (horisontal) berturut - turut yaitu 1, 2, dan 3 \n",
    "y2 = [10, 14, 12] #8-Nilai seri data2 pada sumbu y (vertikal) berturut - turut yaitu 10, 14, dan 12 "
   ]
  },
  {
   "cell_type": "code",
   "execution_count": 11,
   "metadata": {},
   "outputs": [
    {
     "data": {
      "text/plain": [
       "[<matplotlib.lines.Line2D at 0x2cc02fbf6d8>]"
      ]
     },
     "execution_count": 11,
     "metadata": {},
     "output_type": "execute_result"
    }
   ],
   "source": [
    "#9-Proses ploting (menampilkan data dalam bentuk grafik dengan pyplot)\n",
    "#10-Variabel plt merupakan inisialisasi dari library pyplot (lihat komentar #1)\n",
    "plt.plot(x, y, label = 'Seri Data 1') #11-\n",
    "plt.plot(x2, y2, label = 'Seri Data 2') #12-\n",
    "\n",
    "#->11- Proses ploting yang akan mengambil nilai dari variabel x (lihat komentar #4) sebagai nilai pada sumbu X (horisontal) \n",
    "#--->dan nilai dari variabel y (lihat komentar #5) sebagai nilai pada sumbu Y (vertikal)\n",
    "\n",
    "#->12- Sama dengan keterangan pada komentar #11, hanya saja nilai variabel diambil dari seri data2 (data x2 dan y2)"
   ]
  },
  {
   "cell_type": "code",
   "execution_count": 12,
   "metadata": {},
   "outputs": [
    {
     "data": {
      "image/png": "[encoded data removed]",
      "text/plain": [
       "<matplotlib.figure.Figure at 0x2cc02fbf2e8>"
      ]
     },
     "metadata": {},
     "output_type": "display_data"
    }
   ],
   "source": [
    "#13-Keterangan Tambahan\n",
    "plt.xlabel('Variabel (y)') #14-\n",
    "plt.ylabel('Variabel (x)') #15-\n",
    "plt.title('Menampilkan Data Pada Matplotlib') #16-\n",
    "plt.legend() #-17\n",
    "plt.show() #18-\n",
    "\n",
    "#->14- Memberikan label pada sumbu x dengan keterangan : Variabel (y)\n",
    "#->15- Memberikan label pada sumbu y dengan keterangan : Variabel (y)\n",
    "#->16- Memberikan judul dari tampilan data (grafik plot) : Menampilkan Data Pada Matplotlib\n",
    "#->17- Fungsi untuk menampilkan legenda (nilai variabel label pada #11 dan #12)"
   ]
  },
  {
   "cell_type": "code",
   "execution_count": null,
   "metadata": {
    "collapsed": true
   },
   "outputs": [],
   "source": []
  }
 ],
 "metadata": {
  "kernelspec": {
   "display_name": "Python 3",
   "language": "python",
   "name": "python3"
  },
  "language_info": {
   "codemirror_mode": {
    "name": "ipython",
    "version": 3
   },
   "file_extension": ".py",
   "mimetype": "text/x-python",
   "name": "python",
   "nbconvert_exporter": "python",
   "pygments_lexer": "ipython3",
   "version": "3.5.3"
  }
 },
 "nbformat": 4,
 "nbformat_minor": 2
}
